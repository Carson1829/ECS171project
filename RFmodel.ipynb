{
 "cells": [
  {
   "cell_type": "code",
   "execution_count": 6,
   "metadata": {},
   "outputs": [],
   "source": [
    "import pandas as pd\n",
    "from sklearn.ensemble import RandomForestClassifier\n",
    "from sklearn.model_selection import train_test_split, GridSearchCV\n",
    "from sklearn.preprocessing import StandardScaler, LabelEncoder\n",
    "from sklearn.metrics import classification_report, accuracy_score\n",
    "from IPython.display import display\n",
    "import joblib"
   ]
  },
  {
   "cell_type": "code",
   "execution_count": null,
   "metadata": {},
   "outputs": [],
   "source": [
    "tracks = pd.read_csv(\"cleaned_data_f.csv\")\n",
    "\n",
    "features = tracks[['danceability', 'energy', 'key', 'loudness', 'speechiness',\n",
    "                    'acousticness', 'instrumentalness', 'valence', 'tempo']]\n",
    "target = tracks['genre']\n",
    "\n",
    "param_grid = {\n",
    "    'n_estimators': [100, 200, 300],\n",
    "    'max_depth': [None, 10, 20],\n",
    "    'min_samples_split': [2, 5],\n",
    "}\n",
    "model = RandomForestClassifier()\n",
    "# Create a GridSearchCV object\n",
    "grid_search = GridSearchCV(estimator=model, param_grid=param_grid, cv=5, scoring='accuracy', n_jobs=-1)\n",
    "\n",
    "# Fit the grid search to the data\n",
    "grid_search.fit(features, target)\n",
    "\n",
    "# Get the best parameters\n",
    "best_params = grid_search.best_params_\n",
    "print(best_params)"
   ]
  },
  {
   "cell_type": "code",
   "execution_count": null,
   "metadata": {},
   "outputs": [],
   "source": [
    "# Load the data\n",
    "tracks = pd.read_csv(\"cleaned_data_f.csv\")\n",
    "\n",
    "X_train, X_test, y_train, y_test = train_test_split(features, target, test_size=0.2, random_state=42)\n",
    "\n",
    "scaler = StandardScaler()\n",
    "X_train_scaled = scaler.fit_transform(X_train)\n",
    "X_test_scaled = scaler.transform(X_test)\n",
    "\n",
    "# Train the model using the Random Forest Classifier\n",
    "model = RandomForestClassifier(n_estimators = 300, min_samples_split = 5)\n",
    "model.fit(X_train_scaled, y_train)\n",
    "\n",
    "# Evaluate the model\n",
    "predictions = model.predict(X_test_scaled)\n",
    "print(\"Accuracy:\", accuracy_score(y_test, predictions))\n",
    "print(\"Classification Report:\\n\", classification_report(y_test, predictions, zero_division=0))"
   ]
  },
  {
   "cell_type": "code",
   "execution_count": null,
   "metadata": {},
   "outputs": [],
   "source": [
    "# Confusion matrix\n",
    "import numpy\n",
    "from sklearn import metrics\n",
    "import matplotlib.pyplot as plt\n",
    "import seaborn as sns\n",
    "#predicted genres\n",
    "predicted = predictions\n",
    "#actual genres in test set\n",
    "actual = y_test\n",
    "#creating confusion matrix\n",
    "conf_matrix = metrics.confusion_matrix(actual, predicted, labels=['alt-rock','classical','country','pop','edm','punk-rock','rock','hip-hop','jazz'])\n",
    "#visualizing confusion matrix\n",
    "plt.figure(figsize=(6, 6))\n",
    "sns.heatmap(conf_matrix, annot=True, fmt='g', cmap='PiYG', xticklabels=['alt-rock','classical','country','pop','edm','punk-rock','rock','hip-hop','jazz'], yticklabels=['alt-rock','classical','country','pop','edm','punk-rock','rock','hip-hop','jazz'])\n",
    "plt.xlabel('Predicted Preference', fontsize=12)\n",
    "plt.ylabel('Actual Preference', fontsize=12)\n",
    "plt.show()\n"
   ]
  },
  {
   "cell_type": "code",
   "execution_count": null,
   "metadata": {},
   "outputs": [],
   "source": [
    "# Using XGBoost\n",
    "import xgboost as xgb\n",
    "\n",
    "# Encode the target labels to numerical values\n",
    "label_encoder = LabelEncoder()\n",
    "target_encoded = label_encoder.fit_transform(target)\n",
    "\n",
    "# Split the data into training and testing sets\n",
    "X_train, X_test, y_train, y_test = train_test_split(features, target_encoded, test_size=0.2, random_state=42)\n",
    "\n",
    "# Standardize the features\n",
    "scaler = StandardScaler()\n",
    "X_train_scaled = scaler.fit_transform(X_train)\n",
    "X_test_scaled = scaler.transform(X_test)\n",
    "\n",
    "# Train the model using the XGBoost Classifier\n",
    "model = xgb.XGBClassifier(n_estimators=300, use_label_encoder=True, eval_metric='mlogloss')\n",
    "model.fit(X_train_scaled, y_train)\n",
    "\n",
    "# Evaluate the model\n",
    "predictions = model.predict(X_test_scaled)\n",
    "\n",
    "# Decode the predictions back to original labels\n",
    "predictions_decoded = label_encoder.inverse_transform(predictions)\n",
    "y_test_decoded = label_encoder.inverse_transform(y_test)\n",
    "\n",
    "print(\"Accuracy:\", accuracy_score(y_test_decoded, predictions_decoded))\n",
    "print(\"Classification Report:\\n\", classification_report(y_test_decoded, predictions_decoded, zero_division=0))\n"
   ]
  },
  {
   "cell_type": "markdown",
   "metadata": {},
   "source": [
    "The False Positive, False Negative, True Positive and True Negative values can be found for each genre as follows:\n",
    "TP = the cell where the actual and predicted value is the same genre\n",
    "FN = the sum of values across the row for that genre, except for the true positive value\n",
    "FP = the sum of the values down the column for that genre, except for the TP value\n",
    "TN = the sum of values across the rows and columns except for the rows and columns of that genre"
   ]
  }
 ],
 "metadata": {
  "kernelspec": {
   "display_name": "Python 3 (ipykernel)",
   "language": "python",
   "name": "python3"
  },
  "language_info": {
   "codemirror_mode": {
    "name": "ipython",
    "version": 3
   },
   "file_extension": ".py",
   "mimetype": "text/x-python",
   "name": "python",
   "nbconvert_exporter": "python",
   "pygments_lexer": "ipython3",
   "version": "3.8.18"
  }
 },
 "nbformat": 4,
 "nbformat_minor": 4
}
