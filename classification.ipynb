{
 "cells": [
  {
   "cell_type": "code",
   "execution_count": 9,
   "metadata": {},
   "outputs": [],
   "source": [
    "import pandas as pd\n",
    "from sklearn.model_selection import train_test_split\n",
    "from sklearn.neighbors import KNeighborsClassifier\n",
    "from sklearn.preprocessing import LabelEncoder, StandardScaler\n",
    "from sklearn.metrics import classification_report, accuracy_score"
   ]
  },
  {
   "cell_type": "markdown",
   "metadata": {},
   "source": [
    "## Model training using all genres"
   ]
  },
  {
   "cell_type": "code",
   "execution_count": 13,
   "metadata": {},
   "outputs": [
    {
     "name": "stdout",
     "output_type": "stream",
     "text": [
      "Accuracy: 0.2478921779801834\n"
     ]
    }
   ],
   "source": [
    "\n",
    "tracks = pd.read_csv(\"cleaned_data.csv\")\n",
    "playlist = pd.read_csv(\"playlist.csv\")\n",
    "\n",
    "track_data = tracks[~tracks['track_id'].isin(playlist['track_id'])].copy()\n",
    "\n",
    "encoder = LabelEncoder()\n",
    "track_data['track_genre'] = encoder.fit_transform(track_data['track_genre'])\n",
    "\n",
    "features = track_data[['popularity', 'duration_ms', 'danceability', 'energy', 'key', 'loudness', 'mode', \n",
    "                       'speechiness', 'acousticness', 'instrumentalness', 'liveness', 'valence', 'tempo', \n",
    "                       'time_signature']]\n",
    "# features = track_data[['energy', 'key', 'mode', \n",
    "#                        'acousticness', 'valence', 'tempo']]\n",
    "target = track_data['track_genre']\n",
    "\n",
    "X_train, X_test, y_train, y_test = train_test_split(features, target, test_size=0.2, random_state=3)\n",
    "\n",
    "scaler = StandardScaler()\n",
    "X_train_scaled = scaler.fit_transform(X_train)\n",
    "X_test_scaled = scaler.transform(X_test)\n",
    "\n",
    "knn = KNeighborsClassifier(n_neighbors=9)\n",
    "knn.fit(X_train_scaled, y_train)\n",
    "\n",
    "y_pred = knn.predict(X_test_scaled)\n",
    "print(\"Accuracy:\", accuracy_score(y_test, y_pred))\n",
    "# print(\"Classification Report:\\n\", classification_report(y_test, y_pred))\n"
   ]
  },
  {
   "cell_type": "markdown",
   "metadata": {},
   "source": [
    "## Model training using the top 10 most frequent genres"
   ]
  },
  {
   "cell_type": "code",
   "execution_count": 17,
   "metadata": {},
   "outputs": [
    {
     "name": "stdout",
     "output_type": "stream",
     "text": [
      "Accuracy: 0.7519419989642672\n"
     ]
    }
   ],
   "source": [
    "selected_genres = ['study', 'black-metal', 'comedy', 'heavy-metal', 'bluegrass', 'forro', 'grindcore', 'malay', 'idm', 'iranian']\n",
    "filtered_tracks = tracks[tracks['track_genre'].isin(selected_genres)].copy()\n",
    "filtered_track_data = filtered_tracks[~filtered_tracks['track_id'].isin(playlist['track_id'])].copy()\n",
    "\n",
    "encoder_filter = LabelEncoder()\n",
    "filtered_track_data['track_genre'] = encoder_filter.fit_transform(filtered_track_data['track_genre'])\n",
    "\n",
    "features = filtered_track_data[['popularity', 'duration_ms', 'danceability', 'energy', 'key', 'loudness', 'mode', \n",
    "                       'speechiness', 'acousticness', 'instrumentalness', 'liveness', 'valence', 'tempo', \n",
    "                       'time_signature']]\n",
    "# features = filtered_track_data[['energy', 'key', 'mode', \n",
    "#                        'acousticness', 'valence', 'tempo']]\n",
    "target = filtered_track_data['track_genre']\n",
    "\n",
    "X_train, X_test, y_train, y_test = train_test_split(features, target, test_size=0.2, random_state=3)\n",
    "\n",
    "scaler = StandardScaler()\n",
    "X_train_scaled = scaler.fit_transform(X_train)\n",
    "X_test_scaled = scaler.transform(X_test)\n",
    "\n",
    "knn_filtered = KNeighborsClassifier(n_neighbors=9)\n",
    "knn_filtered.fit(X_train_scaled, y_train)\n",
    "\n",
    "y_pred = knn_filtered.predict(X_test_scaled)\n",
    "print(\"Accuracy:\", accuracy_score(y_test, y_pred))\n",
    "# print(\"Classification Report:\\n\", classification_report(y_test, y_pred))\n"
   ]
  },
  {
   "cell_type": "code",
   "execution_count": 19,
   "metadata": {},
   "outputs": [
    {
     "name": "stdout",
     "output_type": "stream",
     "text": [
      "               track_name predicted_genre\n",
      "0            Painted Gray         ambient\n",
      "1               Minä olen        acoustic\n",
      "2    Cliff Burton Suprise        acoustic\n",
      "3   White Wine In The Sun           blues\n",
      "4                Squeller           blues\n",
      "..                    ...             ...\n",
      "95         Windy And Warm          brazil\n",
      "96           Mexeu Comigo     alternative\n",
      "97       Unethical, Pt. 1        alt-rock\n",
      "98             Aži Dahāka        acoustic\n",
      "99     Of Stone and Flesh       bluegrass\n",
      "\n",
      "[100 rows x 2 columns]\n",
      "               track_name predicted_genre\n",
      "0            Painted Gray       grindcore\n",
      "1               Minä olen     black-metal\n",
      "2    Cliff Burton Suprise     black-metal\n",
      "3   White Wine In The Sun           malay\n",
      "4                Squeller           malay\n",
      "..                    ...             ...\n",
      "95         Windy And Warm           study\n",
      "96           Mexeu Comigo           forro\n",
      "97       Unethical, Pt. 1          comedy\n",
      "98             Aži Dahāka     black-metal\n",
      "99     Of Stone and Flesh         iranian\n",
      "\n",
      "[100 rows x 2 columns]\n"
     ]
    }
   ],
   "source": [
    "playlist_features = playlist[['popularity', 'duration_ms', 'danceability', 'energy', 'key', 'loudness', 'mode', \n",
    "                                     'speechiness', 'acousticness', 'instrumentalness', 'liveness', 'valence', 'tempo', \n",
    "                                     'time_signature']]\n",
    "playlist_features_scaled = scaler.transform(playlist_features)\n",
    "\n",
    "# Predict genre of playlist\n",
    "playlist_genre_predictions = knn.predict(playlist_features_scaled)\n",
    "predicted_genres = encoder.inverse_transform(playlist_genre_predictions)\n",
    "playlist['predicted_genre'] = predicted_genres\n",
    "print(playlist[['track_name', 'predicted_genre']])\n",
    "\n",
    "# Predict genre of playlist with selected genres\n",
    "playlist_genre_predictions_filtered = knn_filtered.predict(playlist_features_scaled)\n",
    "predicted_genres_filtered = encoder_filter.inverse_transform(playlist_genre_predictions_filtered)\n",
    "playlist['predicted_genre'] = predicted_genres_filtered\n",
    "print(playlist[['track_name', 'predicted_genre']])\n"
   ]
  },
  {
   "cell_type": "code",
   "execution_count": null,
   "metadata": {},
   "outputs": [],
   "source": []
  }
 ],
 "metadata": {
  "kernelspec": {
   "display_name": "Python 3",
   "language": "python",
   "name": "python3"
  },
  "language_info": {
   "codemirror_mode": {
    "name": "ipython",
    "version": 3
   },
   "file_extension": ".py",
   "mimetype": "text/x-python",
   "name": "python",
   "nbconvert_exporter": "python",
   "pygments_lexer": "ipython3",
   "version": "3.11.9"
  }
 },
 "nbformat": 4,
 "nbformat_minor": 2
}
