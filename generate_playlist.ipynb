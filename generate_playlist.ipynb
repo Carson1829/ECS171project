{
 "cells": [
  {
   "cell_type": "code",
   "execution_count": 3,
   "metadata": {},
   "outputs": [
    {
     "name": "stdout",
     "output_type": "stream",
     "text": [
      "Playlist created and saved to 'playlist.csv'\n"
     ]
    }
   ],
   "source": [
    "import pandas as pd\n",
    "\n",
    "# Load cleaned data\n",
    "tracks = pd.read_csv(\"cleaned_data.csv\")\n",
    "\n",
    "# flitering conditions\n",
    "# genre = 'Pop'\n",
    "popularity_threshold = 50\n",
    "valence_threshold = 0.7\n",
    "danceability_threshold = 0.7\n",
    "\n",
    "# Select tracks that meet the conditions\n",
    "filtered_tracks = tracks[\n",
    "    # (tracks['track_genre'] == genre) &\n",
    "    (tracks['popularity'] > popularity_threshold) &\n",
    "    (tracks['valence'] > valence_threshold) &\n",
    "    (tracks['danceability'] > danceability_threshold)\n",
    "]\n",
    "\n",
    "# Select tracks randomly\n",
    "selected_tracks = filtered_tracks.sample(n=1000)\n",
    "\n",
    "user_id = 921445511\n",
    "playlist_id = 123456789\n",
    "playlist_name = \"Shuzo's Favorite\"\n",
    "\n",
    "# Create a playlist\n",
    "playlist = selected_tracks[['track_id', 'artists', 'album_name', 'track_name']].copy()\n",
    "playlist.insert(0, 'playlist_name', playlist_name)\n",
    "playlist.insert(0, 'playlist_id', playlist_id)\n",
    "playlist.insert(0, 'user_id', user_id)\n",
    "\n",
    "playlist.to_csv(\"playlist.csv\", index=False)\n",
    "\n",
    "print(\"Playlist created and saved to 'playlist.csv'\")\n"
   ]
  },
  {
   "cell_type": "code",
   "execution_count": null,
   "metadata": {},
   "outputs": [],
   "source": []
  }
 ],
 "metadata": {
  "kernelspec": {
   "display_name": "Python 3",
   "language": "python",
   "name": "python3"
  },
  "language_info": {
   "codemirror_mode": {
    "name": "ipython",
    "version": 3
   },
   "file_extension": ".py",
   "mimetype": "text/x-python",
   "name": "python",
   "nbconvert_exporter": "python",
   "pygments_lexer": "ipython3",
   "version": "3.11.9"
  }
 },
 "nbformat": 4,
 "nbformat_minor": 2
}
